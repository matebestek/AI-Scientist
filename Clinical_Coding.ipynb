{
  "nbformat": 4,
  "nbformat_minor": 0,
  "metadata": {
    "colab": {
      "provenance": [],
      "gpuType": "T4",
      "include_colab_link": true
    },
    "kernelspec": {
      "name": "python3",
      "display_name": "Python 3"
    },
    "language_info": {
      "name": "python"
    },
    "accelerator": "GPU",
    "widgets": {
      "application/vnd.jupyter.widget-state+json": {
        "04524a6383fd43a9ac8ed68e92018c37": {
          "model_module": "@jupyter-widgets/controls",
          "model_name": "HBoxModel",
          "model_module_version": "1.5.0",
          "state": {
            "_dom_classes": [],
            "_model_module": "@jupyter-widgets/controls",
            "_model_module_version": "1.5.0",
            "_model_name": "HBoxModel",
            "_view_count": null,
            "_view_module": "@jupyter-widgets/controls",
            "_view_module_version": "1.5.0",
            "_view_name": "HBoxView",
            "box_style": "",
            "children": [
              "IPY_MODEL_c281fb0d6ea741e9bd13d1129498b5a1",
              "IPY_MODEL_36aeda03686a45e987f69581eb75426b",
              "IPY_MODEL_e22c9609a6834cb1b552fa472ad87fbf"
            ],
            "layout": "IPY_MODEL_0e003d3f11fb487d81eb13a83c8f101d"
          }
        },
        "c281fb0d6ea741e9bd13d1129498b5a1": {
          "model_module": "@jupyter-widgets/controls",
          "model_name": "HTMLModel",
          "model_module_version": "1.5.0",
          "state": {
            "_dom_classes": [],
            "_model_module": "@jupyter-widgets/controls",
            "_model_module_version": "1.5.0",
            "_model_name": "HTMLModel",
            "_view_count": null,
            "_view_module": "@jupyter-widgets/controls",
            "_view_module_version": "1.5.0",
            "_view_name": "HTMLView",
            "description": "",
            "description_tooltip": null,
            "layout": "IPY_MODEL_345ba45f126948758a8953122e36f3dd",
            "placeholder": "​",
            "style": "IPY_MODEL_75ab971cdc3947f5abc9d3c547f0f1a7",
            "value": "Loading checkpoint shards: 100%"
          }
        },
        "36aeda03686a45e987f69581eb75426b": {
          "model_module": "@jupyter-widgets/controls",
          "model_name": "FloatProgressModel",
          "model_module_version": "1.5.0",
          "state": {
            "_dom_classes": [],
            "_model_module": "@jupyter-widgets/controls",
            "_model_module_version": "1.5.0",
            "_model_name": "FloatProgressModel",
            "_view_count": null,
            "_view_module": "@jupyter-widgets/controls",
            "_view_module_version": "1.5.0",
            "_view_name": "ProgressView",
            "bar_style": "success",
            "description": "",
            "description_tooltip": null,
            "layout": "IPY_MODEL_7fc3294ced8c42ce808086f01da2b1be",
            "max": 2,
            "min": 0,
            "orientation": "horizontal",
            "style": "IPY_MODEL_3605ab736b434803870629e873023e1d",
            "value": 2
          }
        },
        "e22c9609a6834cb1b552fa472ad87fbf": {
          "model_module": "@jupyter-widgets/controls",
          "model_name": "HTMLModel",
          "model_module_version": "1.5.0",
          "state": {
            "_dom_classes": [],
            "_model_module": "@jupyter-widgets/controls",
            "_model_module_version": "1.5.0",
            "_model_name": "HTMLModel",
            "_view_count": null,
            "_view_module": "@jupyter-widgets/controls",
            "_view_module_version": "1.5.0",
            "_view_name": "HTMLView",
            "description": "",
            "description_tooltip": null,
            "layout": "IPY_MODEL_4df055c7901149538212c2e398bff262",
            "placeholder": "​",
            "style": "IPY_MODEL_a616ab51681844cea43ed5ca629b9f45",
            "value": " 2/2 [00:01&lt;00:00,  1.98it/s]"
          }
        },
        "0e003d3f11fb487d81eb13a83c8f101d": {
          "model_module": "@jupyter-widgets/base",
          "model_name": "LayoutModel",
          "model_module_version": "1.2.0",
          "state": {
            "_model_module": "@jupyter-widgets/base",
            "_model_module_version": "1.2.0",
            "_model_name": "LayoutModel",
            "_view_count": null,
            "_view_module": "@jupyter-widgets/base",
            "_view_module_version": "1.2.0",
            "_view_name": "LayoutView",
            "align_content": null,
            "align_items": null,
            "align_self": null,
            "border": null,
            "bottom": null,
            "display": null,
            "flex": null,
            "flex_flow": null,
            "grid_area": null,
            "grid_auto_columns": null,
            "grid_auto_flow": null,
            "grid_auto_rows": null,
            "grid_column": null,
            "grid_gap": null,
            "grid_row": null,
            "grid_template_areas": null,
            "grid_template_columns": null,
            "grid_template_rows": null,
            "height": null,
            "justify_content": null,
            "justify_items": null,
            "left": null,
            "margin": null,
            "max_height": null,
            "max_width": null,
            "min_height": null,
            "min_width": null,
            "object_fit": null,
            "object_position": null,
            "order": null,
            "overflow": null,
            "overflow_x": null,
            "overflow_y": null,
            "padding": null,
            "right": null,
            "top": null,
            "visibility": null,
            "width": null
          }
        },
        "345ba45f126948758a8953122e36f3dd": {
          "model_module": "@jupyter-widgets/base",
          "model_name": "LayoutModel",
          "model_module_version": "1.2.0",
          "state": {
            "_model_module": "@jupyter-widgets/base",
            "_model_module_version": "1.2.0",
            "_model_name": "LayoutModel",
            "_view_count": null,
            "_view_module": "@jupyter-widgets/base",
            "_view_module_version": "1.2.0",
            "_view_name": "LayoutView",
            "align_content": null,
            "align_items": null,
            "align_self": null,
            "border": null,
            "bottom": null,
            "display": null,
            "flex": null,
            "flex_flow": null,
            "grid_area": null,
            "grid_auto_columns": null,
            "grid_auto_flow": null,
            "grid_auto_rows": null,
            "grid_column": null,
            "grid_gap": null,
            "grid_row": null,
            "grid_template_areas": null,
            "grid_template_columns": null,
            "grid_template_rows": null,
            "height": null,
            "justify_content": null,
            "justify_items": null,
            "left": null,
            "margin": null,
            "max_height": null,
            "max_width": null,
            "min_height": null,
            "min_width": null,
            "object_fit": null,
            "object_position": null,
            "order": null,
            "overflow": null,
            "overflow_x": null,
            "overflow_y": null,
            "padding": null,
            "right": null,
            "top": null,
            "visibility": null,
            "width": null
          }
        },
        "75ab971cdc3947f5abc9d3c547f0f1a7": {
          "model_module": "@jupyter-widgets/controls",
          "model_name": "DescriptionStyleModel",
          "model_module_version": "1.5.0",
          "state": {
            "_model_module": "@jupyter-widgets/controls",
            "_model_module_version": "1.5.0",
            "_model_name": "DescriptionStyleModel",
            "_view_count": null,
            "_view_module": "@jupyter-widgets/base",
            "_view_module_version": "1.2.0",
            "_view_name": "StyleView",
            "description_width": ""
          }
        },
        "7fc3294ced8c42ce808086f01da2b1be": {
          "model_module": "@jupyter-widgets/base",
          "model_name": "LayoutModel",
          "model_module_version": "1.2.0",
          "state": {
            "_model_module": "@jupyter-widgets/base",
            "_model_module_version": "1.2.0",
            "_model_name": "LayoutModel",
            "_view_count": null,
            "_view_module": "@jupyter-widgets/base",
            "_view_module_version": "1.2.0",
            "_view_name": "LayoutView",
            "align_content": null,
            "align_items": null,
            "align_self": null,
            "border": null,
            "bottom": null,
            "display": null,
            "flex": null,
            "flex_flow": null,
            "grid_area": null,
            "grid_auto_columns": null,
            "grid_auto_flow": null,
            "grid_auto_rows": null,
            "grid_column": null,
            "grid_gap": null,
            "grid_row": null,
            "grid_template_areas": null,
            "grid_template_columns": null,
            "grid_template_rows": null,
            "height": null,
            "justify_content": null,
            "justify_items": null,
            "left": null,
            "margin": null,
            "max_height": null,
            "max_width": null,
            "min_height": null,
            "min_width": null,
            "object_fit": null,
            "object_position": null,
            "order": null,
            "overflow": null,
            "overflow_x": null,
            "overflow_y": null,
            "padding": null,
            "right": null,
            "top": null,
            "visibility": null,
            "width": null
          }
        },
        "3605ab736b434803870629e873023e1d": {
          "model_module": "@jupyter-widgets/controls",
          "model_name": "ProgressStyleModel",
          "model_module_version": "1.5.0",
          "state": {
            "_model_module": "@jupyter-widgets/controls",
            "_model_module_version": "1.5.0",
            "_model_name": "ProgressStyleModel",
            "_view_count": null,
            "_view_module": "@jupyter-widgets/base",
            "_view_module_version": "1.2.0",
            "_view_name": "StyleView",
            "bar_color": null,
            "description_width": ""
          }
        },
        "4df055c7901149538212c2e398bff262": {
          "model_module": "@jupyter-widgets/base",
          "model_name": "LayoutModel",
          "model_module_version": "1.2.0",
          "state": {
            "_model_module": "@jupyter-widgets/base",
            "_model_module_version": "1.2.0",
            "_model_name": "LayoutModel",
            "_view_count": null,
            "_view_module": "@jupyter-widgets/base",
            "_view_module_version": "1.2.0",
            "_view_name": "LayoutView",
            "align_content": null,
            "align_items": null,
            "align_self": null,
            "border": null,
            "bottom": null,
            "display": null,
            "flex": null,
            "flex_flow": null,
            "grid_area": null,
            "grid_auto_columns": null,
            "grid_auto_flow": null,
            "grid_auto_rows": null,
            "grid_column": null,
            "grid_gap": null,
            "grid_row": null,
            "grid_template_areas": null,
            "grid_template_columns": null,
            "grid_template_rows": null,
            "height": null,
            "justify_content": null,
            "justify_items": null,
            "left": null,
            "margin": null,
            "max_height": null,
            "max_width": null,
            "min_height": null,
            "min_width": null,
            "object_fit": null,
            "object_position": null,
            "order": null,
            "overflow": null,
            "overflow_x": null,
            "overflow_y": null,
            "padding": null,
            "right": null,
            "top": null,
            "visibility": null,
            "width": null
          }
        },
        "a616ab51681844cea43ed5ca629b9f45": {
          "model_module": "@jupyter-widgets/controls",
          "model_name": "DescriptionStyleModel",
          "model_module_version": "1.5.0",
          "state": {
            "_model_module": "@jupyter-widgets/controls",
            "_model_module_version": "1.5.0",
            "_model_name": "DescriptionStyleModel",
            "_view_count": null,
            "_view_module": "@jupyter-widgets/base",
            "_view_module_version": "1.2.0",
            "_view_name": "StyleView",
            "description_width": ""
          }
        }
      }
    }
  },
  "cells": [
    {
      "cell_type": "markdown",
      "metadata": {
        "id": "view-in-github",
        "colab_type": "text"
      },
      "source": [
        "<a href=\"https://colab.research.google.com/github/matebestek/AI-Scientist/blob/main/Clinical_Coding.ipynb\" target=\"_parent\"><img src=\"https://colab.research.google.com/assets/colab-badge.svg\" alt=\"Open In Colab\"/></a>"
      ]
    },
    {
      "cell_type": "markdown",
      "source": [
        "# How to do clinical coding with LLMs\n",
        "\n",
        "Clinical coding is the act of detecting biomedical concepts (diseases, symptoms, medications, ...) in free text and linking them to a biomedical ontology like SNOMED, ICD10, or any other."
      ],
      "metadata": {
        "id": "-3a3_9DE545T"
      }
    },
    {
      "cell_type": "code",
      "execution_count": null,
      "metadata": {
        "id": "8c7RnkfW4KGo"
      },
      "outputs": [],
      "source": [
        "import torch\n",
        "import torch.nn.functional as F\n",
        "from torch import Tensor\n",
        "\n",
        "from transformers import AutoTokenizer, AutoModel\n",
        "import numpy as np"
      ]
    },
    {
      "cell_type": "markdown",
      "source": [
        "### Data"
      ],
      "metadata": {
        "id": "AcKElyfL_yNY"
      }
    },
    {
      "cell_type": "code",
      "source": [
        "# This is LLM generated, some could be fake SNOMED codes, it is just a mini test ontology\n",
        "cdb = {\n",
        "  \"diseases\": [\n",
        "    {\n",
        "      \"name\": \"Hypertension\",\n",
        "      \"snomed_code\": \"38341003\"\n",
        "    },\n",
        "    {\n",
        "      \"name\": \"Type 2 Diabetes Mellitus\",\n",
        "      \"snomed_code\": \"44054006\"\n",
        "    },\n",
        "    {\n",
        "      \"name\": \"Hyperlipidemia\",\n",
        "      \"snomed_code\": \"55822004\"\n",
        "    },\n",
        "    {\n",
        "      \"name\": \"Major Depressive Disorder\",\n",
        "      \"snomed_code\": \"370143000\"\n",
        "    },\n",
        "    {\n",
        "      \"name\": \"Asthma\",\n",
        "      \"snomed_code\": \"195967001\"\n",
        "    },\n",
        "    {\n",
        "      \"name\": \"Coronary Artery Disease\",\n",
        "      \"snomed_code\": \"53741008\"\n",
        "    },\n",
        "    {\n",
        "      \"name\": \"Obesity\",\n",
        "      \"snomed_code\": \"414916001\"\n",
        "    },\n",
        "    {\n",
        "      \"name\": \"Osteoarthritis\",\n",
        "      \"snomed_code\": \"396275006\"\n",
        "    },\n",
        "    {\n",
        "      \"name\": \"Chronic Obstructive Pulmonary Disease\",\n",
        "      \"snomed_code\": \"13645005\"\n",
        "    },\n",
        "    {\n",
        "      \"name\": \"Hypothyroidism\",\n",
        "      \"snomed_code\": \"40930008\"\n",
        "    },\n",
        "    {\n",
        "      \"name\": \"Anxiety Disorder\",\n",
        "      \"snomed_code\": \"197480006\"\n",
        "    },\n",
        "    {\n",
        "      \"name\": \"Gastroesophageal Reflux Disease\",\n",
        "      \"snomed_code\": \"235595009\"\n",
        "    },\n",
        "    {\n",
        "      \"name\": \"Migraine\",\n",
        "      \"snomed_code\": \"37796009\"\n",
        "    },\n",
        "    {\n",
        "      \"name\": \"Atrial Fibrillation\",\n",
        "      \"snomed_code\": \"49436004\"\n",
        "    },\n",
        "    {\n",
        "      \"name\": \"Chronic Kidney Disease\",\n",
        "      \"snomed_code\": \"709044004\"\n",
        "    },\n",
        "    {\n",
        "      \"name\": \"Allergic Rhinitis\",\n",
        "      \"snomed_code\": \"61582004\"\n",
        "    },\n",
        "    {\n",
        "      \"name\": \"Stroke\",\n",
        "      \"snomed_code\": \"230690007\"\n",
        "    },\n",
        "    {\n",
        "      \"name\": \"Heart Failure\",\n",
        "      \"snomed_code\": \"84114007\"\n",
        "    },\n",
        "    {\n",
        "      \"name\": \"Insomnia\",\n",
        "      \"snomed_code\": \"73430006\"\n",
        "    },\n",
        "    {\n",
        "      \"name\": \"Osteoporosis\",\n",
        "      \"snomed_code\": \"64859006\"\n",
        "    },\n",
        "    {\n",
        "      \"name\": \"Urinary Tract Infection\",\n",
        "      \"snomed_code\": \"68566005\"\n",
        "    },\n",
        "    {\n",
        "      \"name\": \"Vitamin D Deficiency\",\n",
        "      \"snomed_code\": \"34713006\"\n",
        "    },\n",
        "    {\n",
        "      \"name\": \"Iron Deficiency Anemia\",\n",
        "      \"snomed_code\": \"87522002\"\n",
        "    },\n",
        "    {\n",
        "      \"name\": \"Eczema\",\n",
        "      \"snomed_code\": \"43116000\"\n",
        "    },\n",
        "    {\n",
        "      \"name\": \"Fibromyalgia\",\n",
        "      \"snomed_code\": \"203082005\"\n",
        "    },\n",
        "    {\n",
        "      \"name\": \"Irritable Bowel Syndrome\",\n",
        "      \"snomed_code\": \"10743008\"\n",
        "    },\n",
        "    {\n",
        "      \"name\": \"Alzheimer's Disease\",\n",
        "      \"snomed_code\": \"26929004\"\n",
        "    },\n",
        "    {\n",
        "      \"name\": \"Parkinson's Disease\",\n",
        "      \"snomed_code\": \"49049000\"\n",
        "    },\n",
        "    {\n",
        "      \"name\": \"Pneumonia\",\n",
        "      \"snomed_code\": \"233604007\"\n",
        "    },\n",
        "    {\n",
        "      \"name\": \"Influenza\",\n",
        "      \"snomed_code\": \"6142004\"\n",
        "    },\n",
        "    {\n",
        "      \"name\": \"Rheumatoid Arthritis\",\n",
        "      \"snomed_code\": \"69896004\"\n",
        "    },\n",
        "    {\n",
        "      \"name\": \"Attention Deficit Hyperactivity Disorder\",\n",
        "      \"snomed_code\": \"406506008\"\n",
        "    },\n",
        "    {\n",
        "      \"name\": \"Epilepsy\",\n",
        "      \"snomed_code\": \"84757009\"\n",
        "    },\n",
        "    {\n",
        "      \"name\": \"Psoriasis\",\n",
        "      \"snomed_code\": \"9014002\"\n",
        "    },\n",
        "    {\n",
        "      \"name\": \"Celiac Disease\",\n",
        "      \"snomed_code\": \"396331005\"\n",
        "    },\n",
        "    {\n",
        "      \"name\": \"Chronic Sinusitis\",\n",
        "      \"snomed_code\": \"40055000\"\n",
        "    },\n",
        "    {\n",
        "      \"name\": \"Vertigo\",\n",
        "      \"snomed_code\": \"399153001\"\n",
        "    },\n",
        "    {\n",
        "      \"name\": \"Gout\",\n",
        "      \"snomed_code\": \"90560007\"\n",
        "    },\n",
        "    {\n",
        "      \"name\": \"Bipolar Disorder\",\n",
        "      \"snomed_code\": \"13746004\"\n",
        "    },\n",
        "    {\n",
        "      \"name\": \"Multiple Sclerosis\",\n",
        "      \"snomed_code\": \"24700007\"\n",
        "    },\n",
        "    {\n",
        "      \"name\": \"Glaucoma\",\n",
        "      \"snomed_code\": \"23986001\"\n",
        "    },\n",
        "    {\n",
        "      \"name\": \"Cataracts\",\n",
        "      \"snomed_code\": \"193570009\"\n",
        "    },\n",
        "    {\n",
        "      \"name\": \"Benign Prostatic Hyperplasia\",\n",
        "      \"snomed_code\": \"266569009\"\n",
        "    },\n",
        "    {\n",
        "      \"name\": \"Schizophrenia\",\n",
        "      \"snomed_code\": \"58214004\"\n",
        "    },\n",
        "    {\n",
        "      \"name\": \"HIV Infection\",\n",
        "      \"snomed_code\": \"86406008\"\n",
        "    },\n",
        "    {\n",
        "      \"name\": \"Hepatitis C\",\n",
        "      \"snomed_code\": \"50711007\"\n",
        "    },\n",
        "    {\n",
        "      \"name\": \"Deep Vein Thrombosis\",\n",
        "      \"snomed_code\": \"128053003\"\n",
        "    },\n",
        "    {\n",
        "      \"name\": \"Pulmonary Embolism\",\n",
        "      \"snomed_code\": \"59282003\"\n",
        "    },\n",
        "    {\n",
        "      \"name\": \"Peripheral Vascular Disease\",\n",
        "      \"snomed_code\": \"400047006\"\n",
        "    }\n",
        "  ]\n",
        "}"
      ],
      "metadata": {
        "id": "ZpGv2GC59fx0"
      },
      "execution_count": null,
      "outputs": []
    },
    {
      "cell_type": "code",
      "source": [
        "# Clinical note, this is synthetic\n",
        "clinical_note = '''PROGRESS NOTE\n",
        "Date: 03/15/2025\n",
        "Patient: Johnson, Robert M.\n",
        "DOB: 05/22/1958\n",
        "MRN: 763421\n",
        "Provider: Dr. Michaels\n",
        "\n",
        "SUBJECTIVE:\n",
        "67y.o. male presents for f/u of multiple chronic conditions. Pt reports worsening SOB over past 2 wks, especially w/ exertion. C/o intermittent chest discomfort. Has been using rescue inhaler 3-4x/day for COPD sx. Reports poor sleep (only 4-5 hrs/night) w/ early waking. HTN meds \"seem to be working ok.\" Denies changes in BG readings for T2DM. Reports occ. HA but attributes to \"usual migraines.\" Recent weight gain of ~5 lbs, which pt attributes to decreased activity due to knee pain from OA. Continues to have reflux sx despite compliance w/ GERD meds. No new fx episodes per pt, although notes \"feeling more down\" since last visit. AF reportedly stable per home monitoring. No orthopnea or PND noted per pt.\n",
        "OBJECTIVE:\n",
        "VS: BP 148/92, HR 88 (irregularly irregular), RR 18, T 98.4°F, SpO2 93% on RA\n",
        "Wt: 102.4 kg (+2.2 kg from last visit)\n",
        "GEN: Alert, appears older than stated age, mild distress w/ breathing\n",
        "HEENT: NCAT, PERRL, EOMI, dry oral mucosa\n",
        "CV: Irreg rhythm, no m/r/g appreciated\n",
        "RESP: Decreased BS bilaterally, prolonged expiratory phase, scattered wheezes\n",
        "ABD: Soft, NT/ND, (+) BS\n",
        "MSK: B/L knee crepitus, R>L, limited ROM due to pain\n",
        "NEURO: A&Ox3, CN II-XII intact, normal gait w/ mild antalgic component\n",
        "ASSESSMENT/PLAN:\n",
        "\n",
        "COPD - Exacerbation likely. Increase Symbicort to 160/4.5 BID. Add prednisone 40mg daily x5 days. Consider PFTs at next visit.\n",
        "HTN - Suboptimally controlled. Increase lisinopril from 20mg to 30mg daily. Continue HCTZ 25mg daily. F/U BP in 2 weeks.\n",
        "T2DM - Stable. Last A1c 7.3%. Continue metformin 1000mg BID and empagliflozin 10mg daily.\n",
        "A-fib - Stable per pt. Continue apixaban 5mg BID. EKG today shows rate-controlled AF. Will discuss w/ cards re: rhythm control options vs. rate control.\n",
        "MDD - Worsening symptoms. Increase sertraline from 50mg to 75mg daily. Refer to psychiatry for evaluation. PHQ-9 score today: 14.\n",
        "OA - Worsening knee pain. Recommend PT referral. Consider ortho referral for evaluation for possible injection. Increase acetaminophen to 1000mg TID.\n",
        "GERD - Refractory to current tx. Increase omeprazole to 40mg BID. Reinforce dietary modifications. Consider GI referral if no improvement.\n",
        "Migraine - Stable. Continue sumatriptan 50mg PRN.\n",
        "Insomnia - Chronic, worsening. Refer to sleep medicine. Trial of trazodone 50mg QHS. Sleep hygiene education provided.\n",
        "Obesity - BMI 35.2. Nutritional counseling provided. Consider weight management program.\n",
        "\n",
        "F/U: 4 weeks\n",
        "\n",
        "Sarah Michaels, MD\n",
        "Internal Medicine'''"
      ],
      "metadata": {
        "id": "kJRvBA0t_8mu"
      },
      "execution_count": null,
      "outputs": []
    },
    {
      "cell_type": "markdown",
      "source": [
        "## NER via Gemini"
      ],
      "metadata": {
        "id": "JOH_cYYPDsz3"
      }
    },
    {
      "cell_type": "code",
      "source": [
        "from google import genai\n",
        "from pydantic import BaseModel, EmailStr, Field\n",
        "from typing import List, Optional, Dict"
      ],
      "metadata": {
        "id": "9wk4D-3iDvk4"
      },
      "execution_count": null,
      "outputs": []
    },
    {
      "cell_type": "code",
      "source": [
        "client = genai.Client(\n",
        "    api_key='' # YOUR API KEY\n",
        ")"
      ],
      "metadata": {
        "id": "0vXtHB6cD6HN"
      },
      "execution_count": null,
      "outputs": []
    },
    {
      "cell_type": "markdown",
      "source": [
        "We are asking the LLM to handle standardisation (one of the hardest parts of NER+L) and the detection of entities in text (i.e. the NER part)."
      ],
      "metadata": {
        "id": "J8W58vwIHgPd"
      }
    },
    {
      "cell_type": "code",
      "source": [
        "system_prompt = '''You are a medical text extraction assistant specialized in converting clinical narratives into structured JSON data.\n",
        "Your task is to extract all disease mentions from the text\n",
        "\n",
        "Output instructions:\n",
        "- raw_string - this represents the original string of the entity found in the input text\n",
        "- standardised_biomedical_name - this is the standardised name of the entity found in the input text (e.g. if the raw_string is \"T1DM\" the normalized_biomedical_name should be \"Type 1 Diabetes Mellitus\")\n",
        "\n",
        "Input:\n",
        "'''\n",
        "\n",
        "class Entity(BaseModel):\n",
        "    raw_string: str = Field(default=None, nullable=True)\n",
        "    standardised_biomedical_name: str = Field(default=None, nullable=True)\n",
        "\n",
        "class Entities(BaseModel):\n",
        "    entities: List[Entity]"
      ],
      "metadata": {
        "id": "EkBk4mu0Eqq4"
      },
      "execution_count": null,
      "outputs": []
    },
    {
      "cell_type": "code",
      "source": [
        "response = client.models.generate_content(\n",
        "    model='gemini-2.0-flash',\n",
        "\n",
        "    config={\n",
        "        'response_mime_type': 'application/json',\n",
        "        'response_schema': Entities,\n",
        "    },\n",
        "    contents=system_prompt + \"\\n\" + clinical_note,\n",
        ")"
      ],
      "metadata": {
        "id": "6hA243vTF159"
      },
      "execution_count": null,
      "outputs": []
    },
    {
      "cell_type": "code",
      "source": [
        "entities = Entities.model_validate_json(response.text)"
      ],
      "metadata": {
        "id": "5PDIBT-8GGO0"
      },
      "execution_count": null,
      "outputs": []
    },
    {
      "cell_type": "code",
      "source": [
        "for e in entities.entities:\n",
        "    # Print name, std name\n",
        "    print(e.raw_string, \"-\", e.standardised_biomedical_name)"
      ],
      "metadata": {
        "colab": {
          "base_uri": "https://localhost:8080/"
        },
        "id": "3E9iWVeNGLIo",
        "outputId": "04d769dd-c780-4bdc-bdd4-27d4a4eaf785"
      },
      "execution_count": null,
      "outputs": [
        {
          "output_type": "stream",
          "name": "stdout",
          "text": [
            "COPD - Chronic Obstructive Pulmonary Disease\n",
            "HTN - Hypertension\n",
            "T2DM - Type 2 Diabetes Mellitus\n",
            "OA - Osteoarthritis\n",
            "GERD - Gastroesophageal Reflux Disease\n",
            "AF - Atrial Fibrillation\n",
            "COPD - Chronic Obstructive Pulmonary Disease\n",
            "HTN - Hypertension\n",
            "T2DM - Type 2 Diabetes Mellitus\n",
            "A-fib - Atrial Fibrillation\n",
            "MDD - Major Depressive Disorder\n",
            "OA - Osteoarthritis\n",
            "GERD - Gastroesophageal Reflux Disease\n",
            "Migraine - Migraine\n",
            "Insomnia - Insomnia\n",
            "Obesity - Obesity\n"
          ]
        }
      ]
    },
    {
      "cell_type": "markdown",
      "source": [
        "## Linking"
      ],
      "metadata": {
        "id": "ro8qEoIZ7WAS"
      }
    },
    {
      "cell_type": "code",
      "source": [
        "def last_token_pool(last_hidden_states: Tensor,\n",
        "                 attention_mask: Tensor) -> Tensor:\n",
        "    #\n",
        "    left_padding = (attention_mask[:, -1].sum() == attention_mask.shape[0])\n",
        "    if left_padding:\n",
        "        return last_hidden_states[:, -1]\n",
        "    else:\n",
        "        sequence_lengths = attention_mask.sum(dim=1) - 1\n",
        "        batch_size = last_hidden_states.shape[0]\n",
        "        return last_hidden_states[torch.arange(batch_size, device=last_hidden_states.device), sequence_lengths]\n",
        "\n",
        "\n",
        "def get_detailed_instruct(task_description: str, query: str) -> str:\n",
        "    return f'Instruct: {task_description}\\nQuery: {query}'"
      ],
      "metadata": {
        "id": "NrH2brFl7Wr4"
      },
      "execution_count": null,
      "outputs": []
    },
    {
      "cell_type": "code",
      "source": [
        "# By default this will load on CPU, take care that it will be slow to embed the whole ontology, but it is fine for query embedding\n",
        "tokenizer = AutoTokenizer.from_pretrained('Alibaba-NLP/gte-Qwen2-1.5B-instruct', trust_remote_code=True)\n",
        "model = AutoModel.from_pretrained('Alibaba-NLP/gte-Qwen2-1.5B-instruct', trust_remote_code=True)"
      ],
      "metadata": {
        "colab": {
          "base_uri": "https://localhost:8080/",
          "height": 156,
          "referenced_widgets": [
            "04524a6383fd43a9ac8ed68e92018c37",
            "c281fb0d6ea741e9bd13d1129498b5a1",
            "36aeda03686a45e987f69581eb75426b",
            "e22c9609a6834cb1b552fa472ad87fbf",
            "0e003d3f11fb487d81eb13a83c8f101d",
            "345ba45f126948758a8953122e36f3dd",
            "75ab971cdc3947f5abc9d3c547f0f1a7",
            "7fc3294ced8c42ce808086f01da2b1be",
            "3605ab736b434803870629e873023e1d",
            "4df055c7901149538212c2e398bff262",
            "a616ab51681844cea43ed5ca629b9f45"
          ]
        },
        "id": "aqW_3qTN7cOX",
        "outputId": "7a1d2ef9-743e-45e0-a8ae-c62fb7c60b86"
      },
      "execution_count": null,
      "outputs": [
        {
          "output_type": "stream",
          "name": "stderr",
          "text": [
            "/usr/local/lib/python3.11/dist-packages/huggingface_hub/utils/_auth.py:94: UserWarning: \n",
            "The secret `HF_TOKEN` does not exist in your Colab secrets.\n",
            "To authenticate with the Hugging Face Hub, create a token in your settings tab (https://huggingface.co/settings/tokens), set it as secret in your Google Colab and restart your session.\n",
            "You will be able to reuse this secret in all of your notebooks.\n",
            "Please note that authentication is recommended but still optional to access public models or datasets.\n",
            "  warnings.warn(\n"
          ]
        },
        {
          "output_type": "display_data",
          "data": {
            "text/plain": [
              "Loading checkpoint shards:   0%|          | 0/2 [00:00<?, ?it/s]"
            ],
            "application/vnd.jupyter.widget-view+json": {
              "version_major": 2,
              "version_minor": 0,
              "model_id": "04524a6383fd43a9ac8ed68e92018c37"
            }
          },
          "metadata": {}
        }
      ]
    },
    {
      "cell_type": "code",
      "source": [
        "MAX_CONCEPT_NAME_LENGTH = 64 # Even this is too much"
      ],
      "metadata": {
        "id": "JhTqlhJ3AsSq"
      },
      "execution_count": null,
      "outputs": []
    },
    {
      "cell_type": "code",
      "source": [
        "_ = model.to('cuda') # Switch to cuda"
      ],
      "metadata": {
        "id": "be7n0ivWBKtX"
      },
      "execution_count": null,
      "outputs": []
    },
    {
      "cell_type": "code",
      "source": [
        "codes = [disease['snomed_code'] for disease in cdb['diseases']]\n",
        "names = [disease['name'] for disease in cdb['diseases']]\n",
        "\n",
        "# Let's embed all the names, very fast on GPUs (if you are embedding a big CDB consider batching the input)\n",
        "# Normally this would be saved somewhere, maybe even a vector database can be used, but I do not see a need for it (even in the case of a full SNOMED/UMLS)\n",
        "batch_dict = tokenizer(names, max_length=MAX_CONCEPT_NAME_LENGTH, padding=True, truncation=True, return_tensors='pt').to('cuda')\n",
        "outputs = model(**batch_dict)\n",
        "embeddings = last_token_pool(outputs.last_hidden_state, batch_dict['attention_mask'])\n",
        "\n",
        "# normalize embeddings\n",
        "concept_embeddings = F.normalize(embeddings, p=2, dim=1)"
      ],
      "metadata": {
        "id": "en7phYS58Lur"
      },
      "execution_count": null,
      "outputs": []
    },
    {
      "cell_type": "code",
      "source": [
        "# Embed the found entities\n",
        "entity_names = [e.standardised_biomedical_name for e in entities.entities]\n",
        "entity_names = entity_names\n",
        "\n",
        "# Let's embed all the names, very fast on GPUs (if you are embedding a big CDB consider batching the input)\n",
        "batch_dict = tokenizer(entity_names, max_length=MAX_CONCEPT_NAME_LENGTH, padding=True, truncation=True, return_tensors='pt').to('cuda')\n",
        "outputs = model(**batch_dict)\n",
        "embeddings = last_token_pool(outputs.last_hidden_state, batch_dict['attention_mask'])\n",
        "\n",
        "# normalize embeddings\n",
        "entity_embeddings = F.normalize(embeddings, p=2, dim=1)"
      ],
      "metadata": {
        "id": "ba26nxr3B4cl"
      },
      "execution_count": null,
      "outputs": []
    },
    {
      "cell_type": "code",
      "source": [
        "scores = (entity_embeddings @ concept_embeddings.T) * 100"
      ],
      "metadata": {
        "id": "iUkQS6h4Bz63"
      },
      "execution_count": null,
      "outputs": []
    },
    {
      "cell_type": "code",
      "source": [
        "arg_scores = np.argsort(-1 * scores.cpu().detach().numpy())"
      ],
      "metadata": {
        "id": "v-iSs9FjCNU5"
      },
      "execution_count": null,
      "outputs": []
    },
    {
      "cell_type": "code",
      "source": [
        "for ind, e in enumerate(entities.entities):\n",
        "    print(f\"Raw text was: `{e.raw_string}`, top candidate:\")\n",
        "    for i in range(1):\n",
        "        print(f\"  - {names[arg_scores[ind][i]]} - ({codes[arg_scores[ind][i]]}) - score: {scores[ind][arg_scores[ind][i]]:.2f}\")\n",
        "# The model is so good at standardisation that vector similarity is rarely needed for this small ontology, in case of big ontologies it will be much more important"
      ],
      "metadata": {
        "colab": {
          "base_uri": "https://localhost:8080/"
        },
        "id": "EYnRqTHfCWdB",
        "outputId": "85b7a0a3-33d7-4a15-96f5-b7e5c554824b"
      },
      "execution_count": null,
      "outputs": [
        {
          "output_type": "stream",
          "name": "stdout",
          "text": [
            "Raw text was: `COPD`, top candidate:\n",
            "  - Chronic Obstructive Pulmonary Disease - (13645005) - score: 100.00\n",
            "Raw text was: `HTN`, top candidate:\n",
            "  - Hypertension - (38341003) - score: 100.00\n",
            "Raw text was: `T2DM`, top candidate:\n",
            "  - Type 2 Diabetes Mellitus - (44054006) - score: 100.00\n",
            "Raw text was: `OA`, top candidate:\n",
            "  - Osteoarthritis - (396275006) - score: 100.00\n",
            "Raw text was: `GERD`, top candidate:\n",
            "  - Gastroesophageal Reflux Disease - (235595009) - score: 100.00\n",
            "Raw text was: `AF`, top candidate:\n",
            "  - Atrial Fibrillation - (49436004) - score: 100.00\n",
            "Raw text was: `COPD`, top candidate:\n",
            "  - Chronic Obstructive Pulmonary Disease - (13645005) - score: 100.00\n",
            "Raw text was: `HTN`, top candidate:\n",
            "  - Hypertension - (38341003) - score: 100.00\n",
            "Raw text was: `T2DM`, top candidate:\n",
            "  - Type 2 Diabetes Mellitus - (44054006) - score: 100.00\n",
            "Raw text was: `A-fib`, top candidate:\n",
            "  - Atrial Fibrillation - (49436004) - score: 100.00\n",
            "Raw text was: `MDD`, top candidate:\n",
            "  - Major Depressive Disorder - (370143000) - score: 100.00\n",
            "Raw text was: `OA`, top candidate:\n",
            "  - Osteoarthritis - (396275006) - score: 100.00\n",
            "Raw text was: `GERD`, top candidate:\n",
            "  - Gastroesophageal Reflux Disease - (235595009) - score: 100.00\n",
            "Raw text was: `Migraine`, top candidate:\n",
            "  - Migraine - (37796009) - score: 100.00\n",
            "Raw text was: `Insomnia`, top candidate:\n",
            "  - Insomnia - (73430006) - score: 100.00\n",
            "Raw text was: `Obesity`, top candidate:\n",
            "  - Obesity - (414916001) - score: 100.00\n"
          ]
        }
      ]
    },
    {
      "cell_type": "code",
      "source": [
        "print(clinical_note)"
      ],
      "metadata": {
        "colab": {
          "base_uri": "https://localhost:8080/"
        },
        "id": "iskvWleHJ15i",
        "outputId": "82151937-9274-41a9-8e73-30fb4b4243a1"
      },
      "execution_count": null,
      "outputs": [
        {
          "output_type": "stream",
          "name": "stdout",
          "text": [
            "PROGRESS NOTE\n",
            "Date: 03/15/2025\n",
            "Patient: Johnson, Robert M.\n",
            "DOB: 05/22/1958\n",
            "MRN: 763421\n",
            "Provider: Dr. Michaels\n",
            "\n",
            "SUBJECTIVE:\n",
            "67y.o. male presents for f/u of multiple chronic conditions. Pt reports worsening SOB over past 2 wks, especially w/ exertion. C/o intermittent chest discomfort. Has been using rescue inhaler 3-4x/day for COPD sx. Reports poor sleep (only 4-5 hrs/night) w/ early waking. HTN meds \"seem to be working ok.\" Denies changes in BG readings for T2DM. Reports occ. HA but attributes to \"usual migraines.\" Recent weight gain of ~5 lbs, which pt attributes to decreased activity due to knee pain from OA. Continues to have reflux sx despite compliance w/ GERD meds. No new fx episodes per pt, although notes \"feeling more down\" since last visit. AF reportedly stable per home monitoring. No orthopnea or PND noted per pt.\n",
            "OBJECTIVE:\n",
            "VS: BP 148/92, HR 88 (irregularly irregular), RR 18, T 98.4°F, SpO2 93% on RA\n",
            "Wt: 102.4 kg (+2.2 kg from last visit)\n",
            "GEN: Alert, appears older than stated age, mild distress w/ breathing\n",
            "HEENT: NCAT, PERRL, EOMI, dry oral mucosa\n",
            "CV: Irreg rhythm, no m/r/g appreciated\n",
            "RESP: Decreased BS bilaterally, prolonged expiratory phase, scattered wheezes\n",
            "ABD: Soft, NT/ND, (+) BS\n",
            "MSK: B/L knee crepitus, R>L, limited ROM due to pain\n",
            "NEURO: A&Ox3, CN II-XII intact, normal gait w/ mild antalgic component\n",
            "ASSESSMENT/PLAN:\n",
            "\n",
            "COPD - Exacerbation likely. Increase Symbicort to 160/4.5 BID. Add prednisone 40mg daily x5 days. Consider PFTs at next visit.\n",
            "HTN - Suboptimally controlled. Increase lisinopril from 20mg to 30mg daily. Continue HCTZ 25mg daily. F/U BP in 2 weeks.\n",
            "T2DM - Stable. Last A1c 7.3%. Continue metformin 1000mg BID and empagliflozin 10mg daily.\n",
            "A-fib - Stable per pt. Continue apixaban 5mg BID. EKG today shows rate-controlled AF. Will discuss w/ cards re: rhythm control options vs. rate control.\n",
            "MDD - Worsening symptoms. Increase sertraline from 50mg to 75mg daily. Refer to psychiatry for evaluation. PHQ-9 score today: 14.\n",
            "OA - Worsening knee pain. Recommend PT referral. Consider ortho referral for evaluation for possible injection. Increase acetaminophen to 1000mg TID.\n",
            "GERD - Refractory to current tx. Increase omeprazole to 40mg BID. Reinforce dietary modifications. Consider GI referral if no improvement.\n",
            "Migraine - Stable. Continue sumatriptan 50mg PRN.\n",
            "Insomnia - Chronic, worsening. Refer to sleep medicine. Trial of trazodone 50mg QHS. Sleep hygiene education provided.\n",
            "Obesity - BMI 35.2. Nutritional counseling provided. Consider weight management program.\n",
            "\n",
            "F/U: 4 weeks\n",
            "\n",
            "Sarah Michaels, MD\n",
            "Internal Medicine\n"
          ]
        }
      ]
    },
    {
      "cell_type": "code",
      "source": [],
      "metadata": {
        "id": "or6jmbsbCyJD"
      },
      "execution_count": null,
      "outputs": []
    }
  ]
}